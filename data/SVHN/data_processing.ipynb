{
 "cells": [
  {
   "cell_type": "code",
   "execution_count": 1,
   "metadata": {},
   "outputs": [
    {
     "name": "stdout",
     "output_type": "stream",
     "text": [
      "Processed data shape: (73257, 32, 32, 1)\n",
      "Processed data shape: (26032, 32, 32, 1)\n"
     ]
    }
   ],
   "source": [
    "import numpy as np\n",
    "from scipy.io import loadmat, savemat\n",
    "from sklearn.preprocessing import StandardScaler\n",
    "\n",
    "def convert_to_gray(images):\n",
    "    gray_weights = np.array([0.2990, 0.5870, 0.1140])\n",
    "    weighted_sum = np.tensordot(images, gray_weights, axes=([-1], [0]))\n",
    "    return np.expand_dims(weighted_sum, axis=-1)\n",
    "\n",
    "def standardize_images(images):\n",
    "    images_reshaped = images.reshape(-1, images.shape[-1])\n",
    "    scaler = StandardScaler().fit(images_reshaped)\n",
    "    standardized_images = scaler.transform(images_reshaped)\n",
    "    return standardized_images.reshape(images.shape)\n",
    "\n",
    "def modify_labels(labels):\n",
    "    labels = labels.copy()\n",
    "    labels[labels == 10] = 0\n",
    "    return labels\n",
    "\n",
    "def load_process_save(input_path, output_path):\n",
    "    data = loadmat(input_path)\n",
    "    images, labels = data['X'], data['y']\n",
    "\n",
    "    # Image and label processing\n",
    "    images = np.transpose(images, (3, 0, 1, 2))\n",
    "    gray_images = convert_to_gray(images)\n",
    "    standardized_images = standardize_images(gray_images)\n",
    "    modified_labels = modify_labels(labels.flatten())\n",
    "\n",
    "    print(f\"Processed data shape: {standardized_images.shape}\")\n",
    "\n",
    "    # Saving processed data\n",
    "    savemat(output_path, {'X': standardized_images, 'y': modified_labels})\n",
    "\n",
    "# Processing and saving datasets\n",
    "load_process_save('train_32x32.mat', 'train_data.mat')\n",
    "load_process_save('test_32x32.mat', 'test_data.mat')\n"
   ]
  }
 ],
 "metadata": {
  "kernelspec": {
   "display_name": "base",
   "language": "python",
   "name": "python3"
  },
  "language_info": {
   "codemirror_mode": {
    "name": "ipython",
    "version": 3
   },
   "file_extension": ".py",
   "mimetype": "text/x-python",
   "name": "python",
   "nbconvert_exporter": "python",
   "pygments_lexer": "ipython3",
   "version": "3.11.3"
  }
 },
 "nbformat": 4,
 "nbformat_minor": 2
}
