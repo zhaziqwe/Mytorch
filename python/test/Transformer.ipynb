{
 "cells": [
  {
   "cell_type": "code",
   "execution_count": 1,
   "metadata": {},
   "outputs": [],
   "source": [
    "import sys\n",
    "import os\n",
    "\n",
    "# 获取当前工作目录\n",
    "current_dir = os.getcwd()\n",
    "\n",
    "# 获取父目录（即 python_dir）\n",
    "project_dir = os.path.dirname(current_dir)\n",
    "sys.path.append(project_dir)\n",
    "\n",
    "\n",
    "import numpy as np\n",
    "import cupy as cp\n",
    "import mytorch as torch\n",
    "import mytorch.ops as ops\n",
    "import mytorch.nn as nn\n",
    "import mytorch.optim as optim\n",
    "import mytorch.data as data\n",
    "from mytorch.array_device import *\n",
    "from mytorch.array_api import array_api\n",
    "import mytorch.perfomance as pf"
   ]
  },
  {
   "cell_type": "code",
   "execution_count": 2,
   "metadata": {},
   "outputs": [
    {
     "name": "stdout",
     "output_type": "stream",
     "text": [
      "20136960\n",
      "(1, 64, 65)\n"
     ]
    }
   ],
   "source": [
    "cp.random.seed(42)\n",
    "x = torch.Tensor(cp.random.randint(0, 60, size=(1, 64)))\n",
    "model = nn.TransformerDecoder(vocab_size=65, max_len=64, n_embd=256, n_head=8, n_layer=3, dropout=0.1,device=gpu())\n",
    "out = model(x)\n",
    "print(torch.Tensor.total_size)\n",
    "print(out.shape)\n",
    "out.backward()"
   ]
  },
  {
   "cell_type": "code",
   "execution_count": 3,
   "metadata": {},
   "outputs": [
    {
     "name": "stdout",
     "output_type": "stream",
     "text": [
      "[[0.13813812 0.4752619  0.81847996 ... 0.21780637 0.9987628  0.13273256]\n",
      " [0.4876242  0.63443345 0.5689269  ... 0.49042484 0.29066005 0.83576864]\n",
      " [0.8202983  0.64072603 0.08251388 ... 0.81879646 0.8278121  0.73016775]\n",
      " ...\n",
      " [0.8528449  0.22381213 0.60463625 ... 0.45365176 0.8378511  0.27057022]\n",
      " [0.852119   0.29379985 0.06153331 ... 0.740683   0.46846318 0.8050998 ]\n",
      " [0.47174126 0.6581016  0.8284623  ... 0.7179612  0.5521711  0.28439957]]\n",
      "[[6. 6. 6. ... 6. 6. 6.]\n",
      " [3. 3. 3. ... 3. 3. 3.]\n",
      " [6. 6. 6. ... 6. 6. 6.]\n",
      " ...\n",
      " [0. 0. 0. ... 0. 0. 0.]\n",
      " [0. 0. 0. ... 0. 0. 0.]\n",
      " [0. 0. 0. ... 0. 0. 0.]]\n"
     ]
    }
   ],
   "source": [
    "x =torch.Tensor(np.random.randint(10, size=(5, 10)))\n",
    "y = nn.Embedding(1000, 512)\n",
    "z = y(x)\n",
    "print(y.weight)\n",
    "z.backward()\n",
    "print(y.weight.grad)"
   ]
  },
  {
   "cell_type": "code",
   "execution_count": 4,
   "metadata": {},
   "outputs": [],
   "source": [
    "father_dir = os.path.dirname(project_dir)\n",
    "with open(father_dir+'/data/Shakespeare/input.txt', 'r', encoding='utf-8') as f:\n",
    "    text = f.read()\n",
    "\n",
    "# here are all the unique characters that occur in this text\n",
    "chars = sorted(list(set(text)))\n",
    "vocab_size = len(chars)\n",
    "# create a mapping from characters to integers\n",
    "stoi = { ch:i for i,ch in enumerate(chars) }\n",
    "itos = { i:ch for i,ch in enumerate(chars) }\n",
    "encode = lambda s: [stoi[c] for c in s] # encoder: take a string, output a list of integers\n",
    "decode = lambda l: ''.join([itos[i] for i in l]) # decoder: take a list of integers, output a string\n",
    "\n",
    "# Train and test splits\n",
    "data = cp.array(encode(text), dtype=\"int\")"
   ]
  },
  {
   "cell_type": "code",
   "execution_count": 5,
   "metadata": {},
   "outputs": [],
   "source": [
    "batch_size = 256\n",
    "max_len = 64\n",
    "n_embd = 256\n",
    "device = 'gpu'\n",
    "\n",
    "optimizer=optim.Adam(model.parameters(),lr=0.001,weight_decay=0.001)\n",
    "criterion= nn.SoftmaxLoss()\n",
    "\n",
    "max_iters = 200\n",
    "# data loading\n",
    "def get_batch():\n",
    "    # generate a small batch of data of inputs x and targets y\n",
    "    ix = cp.random.randint(0, len(data) - max_len, size=(batch_size,))\n",
    "    x = cp.stack([data[i:i+max_len] for i in ix])\n",
    "    y = cp.stack([data[i+1:i+max_len+1] for i in ix])\n",
    "    x,y= torch.Tensor(x), torch.Tensor(y)\n",
    "    x.to(device)\n",
    "    y.to(device)\n",
    "    return x, y"
   ]
  },
  {
   "cell_type": "code",
   "execution_count": null,
   "metadata": {},
   "outputs": [],
   "source": [
    "for iter in range(max_iters):\n",
    "\n",
    "\n",
    "    optimizer.reset_grad()\n",
    "    # sample a batch of data\n",
    "    xb, yb = get_batch()\n",
    "    \n",
    "    # evaluate the loss\n",
    "    logits = model(xb)\n",
    "    B, T, C = logits.shape\n",
    "    logits = logits.reshape((B*T, C))\n",
    "    yb = yb.reshape((B*T))\n",
    "    loss = criterion(logits, yb)\n",
    "    print(f\"step {iter}: train loss {loss.cupy():.4f}\")\n",
    "    loss.backward()\n",
    "    optimizer.step()\n"
   ]
  },
  {
   "cell_type": "code",
   "execution_count": 6,
   "metadata": {},
   "outputs": [],
   "source": [
    "\n",
    "def generate(idx, max_new_tokens):\n",
    "    # idx is (B, T) array of indices in the current context\n",
    "    for _ in range(max_new_tokens):\n",
    "        # crop idx to the last block_size tokens\n",
    "        idx_cond = idx[:, -max_len:]\n",
    "        # get the predictions\n",
    "        logits= model(torch.Tensor(idx_cond))\n",
    "        # focus only on the last time step\n",
    "        logits = logits.cupy()[:, -1, :] # becomes (B, C)\n",
    "        # apply softmax to get probabilities\n",
    "        probs = ops.softmax(torch.Tensor(logits), axis=-1) # (B, C)\n",
    "        # sample from the distribution\n",
    "        idx_next = cupy.array([cupy.random.choice(logits.shape[1], size=1,p=p) for p in probs.cupy()])\n",
    "        # append sampled index to the running sequence\n",
    "        idx = cp.concatenate((idx, idx_next), axis=-1)# (B, T+1)\n",
    "        \n",
    "        yield idx_next"
   ]
  },
  {
   "cell_type": "code",
   "execution_count": 7,
   "metadata": {},
   "outputs": [
    {
     "name": "stdout",
     "output_type": "stream",
     "text": [
      "mgggOI$oGHWYKIQ'JITQQdMQgQ-'-aTnaM::aamdaP',dGdpr:iVpxdZ-MWlmQCKmTaTTxap!xaJ'xooax:$O-\n",
      "dTpxXsJdTgxZ-WADUaHWm&&VaZxasTWcaQTruVxYJEaPpwXxdpDCGTamxK-apComYuydcgpBLwKTTHTuTKxGaV'doa$QDxxTQxWxIxToxJWczTuLTGWwx-xcp,dDTVn-TuconKTYWZ,UNLuaa,-TvWxdxTd\n",
      "odPaXYsxapLWEgaX-acQuLTxKasVoPam:GGadOxqlGhxHDc TZQJmcpQQxrWwxJdJdaT\n",
      "pQxTWCTxAYQxhJxXAHxxx-xKmMxTlOxozmDxToaTWJWxjw\n",
      "'dTgoxxjVTxGDrcOuOLT:\n",
      "LIrauaCdxxx.xQoaKagxgo:-KaJ$paBbK-WTGdbpaCGYcsw:kMDZrKaxoDQ-dY\n",
      "rtG\n",
      "apo-GKJdQQT:TCzxaaQ-xKa$-UaP\n",
      "DTooQoT!WDoKTxx!mJ txvc"
     ]
    }
   ],
   "source": [
    "import sys\n",
    "# generate from the model\n",
    "context = cp.zeros((1,1),dtype=int)\n",
    "gen = generate(context, max_new_tokens=500)\n",
    "for updated_sequence in gen:\n",
    "    # 将生成的结果转换为列表，并更新输出\n",
    "    decoded_output = decode(updated_sequence[0].tolist())\n",
    "    sys.stdout.write(decoded_output)\n",
    "    sys.stdout.flush()  # 强制刷新输出"
   ]
  }
 ],
 "metadata": {
  "kernelspec": {
   "display_name": "chatdoc",
   "language": "python",
   "name": "python3"
  },
  "language_info": {
   "codemirror_mode": {
    "name": "ipython",
    "version": 3
   },
   "file_extension": ".py",
   "mimetype": "text/x-python",
   "name": "python",
   "nbconvert_exporter": "python",
   "pygments_lexer": "ipython3",
   "version": "3.10.13"
  }
 },
 "nbformat": 4,
 "nbformat_minor": 2
}
