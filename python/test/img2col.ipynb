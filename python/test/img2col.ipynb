{
 "cells": [
  {
   "cell_type": "code",
   "execution_count": 1,
   "metadata": {},
   "outputs": [
    {
     "name": "stdout",
     "output_type": "stream",
     "text": [
      "(1, 27, 676)\n"
     ]
    }
   ],
   "source": [
    "# 一个简单的img2col实现\n",
    "import numpy as np\n",
    "img = np.random.rand(1, 28, 28,3)\n",
    "def img2col(img, k, stride):\n",
    "    n, h, w, c = img.shape\n",
    "    out_h = (h - k) // stride + 1\n",
    "    out_w = (w - k) // stride + 1\n",
    "    col = np.zeros((n, k*k*c, out_h*out_w))\n",
    "    for i in range(out_h):\n",
    "        for j in range(out_w):\n",
    "            col[:, :, i*out_w+j] = img[:, i*stride:i*stride+k, j*stride:j*stride+k, :].reshape(n, -1)\n",
    "    return col\n",
    "\n",
    "k = 3\n",
    "stride = 1\n",
    "col = img2col(img, k, stride)\n",
    "print(col.shape)"
   ]
  }
 ],
 "metadata": {
  "kernelspec": {
   "display_name": "Mytorch",
   "language": "python",
   "name": "python3"
  },
  "language_info": {
   "codemirror_mode": {
    "name": "ipython",
    "version": 3
   },
   "file_extension": ".py",
   "mimetype": "text/x-python",
   "name": "python",
   "nbconvert_exporter": "python",
   "pygments_lexer": "ipython3",
   "version": "3.10.13"
  }
 },
 "nbformat": 4,
 "nbformat_minor": 2
}
